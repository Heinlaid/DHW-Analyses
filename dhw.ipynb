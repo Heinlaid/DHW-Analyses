{
 "cells": [
  {
   "cell_type": "code",
   "execution_count": 2,
   "id": "1fa24ae0",
   "metadata": {},
   "outputs": [],
   "source": [
    "#    The customer has limited data available on the Domestic Hot Water (DHW) system of the shopping center they manage.\n",
    "#    At present, they can only provide information on the overall area of the premises and temperature readings from a few\n",
    "#    specific hot water supply and return branches. Despite these data limitations, the objective is to offer potential\n",
    "#    recommendations for enhancing effectiveness of the sistem."
   ]
  },
  {
   "cell_type": "code",
   "execution_count": 3,
   "id": "49b39050",
   "metadata": {},
   "outputs": [],
   "source": [
    "# Import\n",
    "import numpy as np\n",
    "import pandas as pd\n",
    "import matplotlib.pyplot as plt\n",
    "import statsmodels.api as sm"
   ]
  },
  {
   "cell_type": "code",
   "execution_count": 4,
   "id": "2564f2ed",
   "metadata": {},
   "outputs": [],
   "source": [
    "# Read CSV-file\n",
    "path = 'F:/GitHub/energy_2/DHW.csv'\n",
    "data = pd.read_csv(path, parse_dates=['Time'], dayfirst=True)"
   ]
  },
  {
   "cell_type": "code",
   "execution_count": null,
   "id": "414210b7",
   "metadata": {
    "scrolled": true
   },
   "outputs": [],
   "source": [
    "# Check the shape of the DataFrame (number of rows and columns)\n",
    "print('Shape:', data.shape)"
   ]
  },
  {
   "cell_type": "code",
   "execution_count": null,
   "id": "60f5e5a5",
   "metadata": {},
   "outputs": [],
   "source": [
    "# Check the dataset\n",
    "data.head(5)"
   ]
  },
  {
   "cell_type": "code",
   "execution_count": null,
   "id": "9d4d7353",
   "metadata": {},
   "outputs": [],
   "source": [
    "# To effectively manage this data, it should be sorted based on the descriptions (return/supply)\n",
    "# and their corresponding temperatures. It will be reshape by the melt function."
   ]
  },
  {
   "cell_type": "code",
   "execution_count": null,
   "id": "cfdaf7d4",
   "metadata": {},
   "outputs": [],
   "source": [
    "# Reshape by side: return or supply\n",
    "melted_data_by_side = pd.melt(data, id_vars=['Time'], value_vars=['Side{}'.format(i) for i in range(1, 8)])\n",
    "melt_side = melted_data_by_side.replace('Side', 'observation', regex=True).sort_values(['Time', 'variable'])\n",
    "melt_side.head(7)"
   ]
  },
  {
   "cell_type": "code",
   "execution_count": null,
   "id": "60018737",
   "metadata": {},
   "outputs": [],
   "source": [
    "# Reshape by temperature value\n",
    "melted_data_by_value = pd.melt(data, id_vars=['Time'], value_vars=['Value{}'.format(i) for i in range(1, 8)])\n",
    "melt_value = melted_data_by_value.replace('Value', 'observation', regex=True).sort_values(['Time', 'variable'])\n",
    "melt_value.head(7)"
   ]
  },
  {
   "cell_type": "code",
   "execution_count": null,
   "id": "deb7806a",
   "metadata": {},
   "outputs": [],
   "source": [
    "# Merge two melted tables\n",
    "merged_df = melt_side.merge(melt_value, how='left', on=['Time', 'variable'], suffixes=['_side', '_temp'])\n",
    "\n",
    "# Sort values by time, side and temperature respectively\n",
    "merged_sorted_df = merged_df.sort_values(['Time', 'value_side', 'value_temp']).drop('variable', axis=1).reset_index(drop=True)\n",
    "\n",
    "# Rename columns\n",
    "merged_sorted_df.columns = ['time', 'side', 'temp']\n",
    "\n",
    "# Add numbering of one timestamp\n",
    "merged_sorted_df['sensor'] = (merged_sorted_df.index % 7) + 1\n",
    "merged_sorted_df.head(7)"
   ]
  },
  {
   "cell_type": "code",
   "execution_count": null,
   "id": "6672fc9c",
   "metadata": {
    "scrolled": true
   },
   "outputs": [],
   "source": [
    "# Pivot the table in order to have initial format with sorted values in every row\n",
    "reshaped_df = pd.pivot_table(merged_sorted_df, index='time', columns=['side', 'sensor'], values='temp').reset_index()\n",
    "\n",
    "# Rename columns\n",
    "reshaped_df.columns=['timestamp',\n",
    "                     'return_1', 'return_2', 'return_3', 'return_4',\n",
    "                     'supply_1', 'supply_2', 'supply_3']\n",
    "reshaped_df.head()"
   ]
  },
  {
   "cell_type": "code",
   "execution_count": null,
   "id": "d98e7814",
   "metadata": {},
   "outputs": [],
   "source": [
    "# Visalize data"
   ]
  },
  {
   "cell_type": "code",
   "execution_count": null,
   "id": "553a03e9",
   "metadata": {},
   "outputs": [],
   "source": [
    "# Visalize temperatures\n",
    "\n",
    "#Set plot size\n",
    "fig, axes = plt.subplots(figsize=(10, 5))\n",
    "\n",
    "\n",
    "# Plot each return column on a separate line\n",
    "for column in reshaped_df.columns[1:5]:\n",
    "    plt.plot(reshaped_df['timestamp'], reshaped_df[column], label=column, color='blue')\n",
    "    \n",
    "# Plot each supply column on a separate line\n",
    "for column in reshaped_df.columns[5:8]:\n",
    "    plt.plot(reshaped_df['timestamp'], reshaped_df[column], label=column, color='red')\n",
    "\n",
    "plt.xlabel('Timestamp')\n",
    "plt.ylabel('Temperature, °C')\n",
    "plt.title('Temperature regime')\n",
    "plt.legend()\n",
    "plt.xticks(rotation=45)\n",
    "plt.grid(True)\n",
    "plt.show()"
   ]
  },
  {
   "cell_type": "code",
   "execution_count": null,
   "id": "56272893",
   "metadata": {},
   "outputs": [],
   "source": [
    "# View a specific day in more detail\n",
    "\n",
    "# Specify the specific day\n",
    "target_day = '2023-07-01'\n",
    "\n",
    "# Convert the target_day to datetime format\n",
    "target_day_datetime = pd.to_datetime(target_day)\n",
    "\n",
    "# Filter data by target day\n",
    "reshaped_df_only_1jul = reshaped_df[reshaped_df['timestamp'].dt.date == target_day_datetime.date()].reset_index(drop=True)\n",
    "\n",
    "# Convert the 'timestamp' column to datetime format\n",
    "reshaped_df_only_1jul['timestamp'] = reshaped_df_only_1jul['timestamp'].dt.strftime('%H:%M:%S')\n",
    "\n",
    "reshaped_df_only_1jul.head()"
   ]
  },
  {
   "cell_type": "code",
   "execution_count": null,
   "id": "1b498720",
   "metadata": {},
   "outputs": [],
   "source": [
    "# Visalize specific day\n",
    "\n",
    "#Set plot size\n",
    "fig, axes = plt.subplots(figsize=(10, 5))\n",
    "\n",
    "# Plot each column on a separate line, return\n",
    "for column in reshaped_df_only_1jul.columns[1:5]:\n",
    "    plt.plot(reshaped_df_only_1jul['timestamp'], reshaped_df_only_1jul[column], label=column, color='blue')\n",
    "    \n",
    "# Plot each column on a separate line, supply\n",
    "for column in reshaped_df_only_1jul.columns[5:8]:\n",
    "    plt.plot(reshaped_df_only_1jul['timestamp'], reshaped_df_only_1jul[column], label=column, color='red')\n",
    "\n",
    "plt.xlabel('Timestamp')\n",
    "plt.ylabel('Temperature, °C')\n",
    "plt.title('Temperature regime for single day')\n",
    "plt.legend()  # Show the legend with column names\n",
    "plt.xticks(reshaped_df_only_1jul['timestamp'][::4])  # Show every 4th timestamp on the x-axis\n",
    "plt.xticks(rotation=45)  # Rotate x-axis labels for better visibility if needed\n",
    "plt.grid(True)  # Add gridlines if desired\n",
    "plt.show()"
   ]
  },
  {
   "cell_type": "code",
   "execution_count": null,
   "id": "b7a2fc14",
   "metadata": {
    "scrolled": true
   },
   "outputs": [],
   "source": [
    "# In the system, there are two main supply lines with equal discharge, and occasionally,\n",
    "# the values in the database get interchanged or swapped.\n",
    "# So we can merge temperatures and swap temperatures where it is necessary"
   ]
  },
  {
   "cell_type": "code",
   "execution_count": null,
   "id": "a4227503",
   "metadata": {},
   "outputs": [],
   "source": [
    "# Take a mean temperatures\n",
    "df_sum = reshaped_df.loc[:,['timestamp', 'return_3', 'return_4', 'supply_2', 'supply_3']]\n",
    "df_sum['return_new'] = (df_sum['return_3'] + df_sum['return_4'])/2\n",
    "df_sum['supply_new'] = (df_sum['supply_2'] + df_sum['supply_3'])/2\n",
    "\n",
    "# Swap where it necessary\n",
    "df_sum['supply'] = np.where(df_sum['supply_new'] > df_sum['return_new'],\n",
    "                                df_sum['supply_new'],\n",
    "                                df_sum['return_new'])\n",
    "df_sum['return'] = np.where(df_sum['supply_new'] > df_sum['return_new'],\n",
    "                                df_sum['return_new'],\n",
    "                                df_sum['supply_new'])\n",
    "\n",
    "# Lock necessary columns\n",
    "df_sum = df_sum.loc[:,['timestamp', 'return', 'supply']]"
   ]
  },
  {
   "cell_type": "code",
   "execution_count": null,
   "id": "3efef394",
   "metadata": {},
   "outputs": [],
   "source": [
    "# Visalize common branch\n",
    "\n",
    "#Set plot size\n",
    "plt.figure(figsize=(12,6))\n",
    "\n",
    "# Plotting the new data\n",
    "plt.plot(df_sum['timestamp'], df_sum['return'], label='return', color='blue')\n",
    "plt.plot(df_sum['timestamp'], df_sum['supply'], label='supply', color='red')\n",
    "\n",
    "plt.xlabel('Timestamp')\n",
    "plt.ylabel('Temperature, °C')\n",
    "plt.title('Temperature regime of common branch')\n",
    "plt.legend()\n",
    "plt.xticks(rotation=45)\n",
    "plt.grid(True)\n",
    "plt.show()"
   ]
  },
  {
   "cell_type": "code",
   "execution_count": null,
   "id": "59aedcc0",
   "metadata": {},
   "outputs": [],
   "source": [
    "'''\n",
    "Params:\n",
    "    1. Area                   54000    sq m\n",
    "    2. Hot water cons         0.001     l/s/sqm\n",
    "    3. Hot water cons total   54      l/s\n",
    "    \n",
    "Thermal power formula:\n",
    "    P = dt*m*Cp\n",
    "    P - thermal power, kWt\n",
    "    dt - temperature difference, °C\n",
    "    m - recirculation rate, l/s\n",
    "    \n",
    "'''\n",
    "m = 54\n",
    "Cp = 4.182"
   ]
  },
  {
   "cell_type": "code",
   "execution_count": null,
   "id": "148fb826",
   "metadata": {
    "scrolled": false
   },
   "outputs": [],
   "source": [
    "# Add thermal power column\n",
    "df_sum['t_power'] = round((df_sum['supply']-df_sum['return'])*m*Cp, 2)\n",
    "df_sum.head()"
   ]
  },
  {
   "cell_type": "code",
   "execution_count": null,
   "id": "4fa7ca97",
   "metadata": {},
   "outputs": [],
   "source": [
    "# View a specific day in more detail\n",
    "\n",
    "# Filter data by target day\n",
    "df_sum_singlday = df_sum[df_sum['timestamp'].dt.date == target_day_datetime.date()].reset_index(drop=True)\n",
    "\n",
    "# Convert the 'timestamp' column to datetime format\n",
    "df_sum_singlday['timestamp'] = df_sum_singlday['timestamp'].dt.strftime('%H:%M:%S')"
   ]
  },
  {
   "cell_type": "code",
   "execution_count": null,
   "id": "30fabefa",
   "metadata": {},
   "outputs": [],
   "source": [
    "# Visalize thermal power for single day\n",
    "\n",
    "#Set plot size\n",
    "plt.figure(figsize=(12,6))\n",
    "\n",
    "# Plotting the new data\n",
    "plt.plot(df_sum_singlday['timestamp'], df_sum_singlday['t_power'], label='t_power')\n",
    "\n",
    "plt.xlabel('Timestamp')\n",
    "plt.ylabel('Termal power, kWt')\n",
    "plt.title('Termal power fluctuations, single day')\n",
    "plt.legend()  \n",
    "plt.xticks(reshaped_df_only_1jul['timestamp'][::4]) \n",
    "plt.xticks(rotation=45) \n",
    "plt.grid(True) \n",
    "plt.show()"
   ]
  },
  {
   "cell_type": "code",
   "execution_count": null,
   "id": "444c6249",
   "metadata": {},
   "outputs": [],
   "source": [
    "# The primary concern for the system is underheating, which must be addressed by maintaining\n",
    "# the water temperature between 49 and 60 degrees to prevent the growth of Legionella Bacteria.\n",
    "# Since the thermal power consumption remains stable, the water discharge rate should be adjusted\n",
    "# to regulate the temperature and ensure it stays within the desired range."
   ]
  },
  {
   "cell_type": "code",
   "execution_count": null,
   "id": "e18b0c4f",
   "metadata": {},
   "outputs": [],
   "source": [
    "## Obtain smoothed values of discharging rate"
   ]
  },
  {
   "cell_type": "code",
   "execution_count": null,
   "id": "d723e5c0",
   "metadata": {},
   "outputs": [],
   "source": [
    "# Group by time in order to obtain mean values during the average day\n",
    "\n",
    "# Copy dataframe\n",
    "df_mean = df_sum.copy()\n",
    "\n",
    "# Leave only time, drop dates\n",
    "df_mean['timestamp'] = df_mean['timestamp'].dt.strftime('%H:%M:%S')\n",
    "\n",
    "# Group by timestamp\n",
    "df_mean_day = df_mean.groupby('timestamp').mean().reset_index()\n",
    "df_mean_day.head()"
   ]
  },
  {
   "cell_type": "code",
   "execution_count": null,
   "id": "74426748",
   "metadata": {},
   "outputs": [],
   "source": [
    "# Calculate the scaling factor to maintain the same daily sum for t_power after smoothing\n",
    "daily_sum_t_power = df_mean_day['t_power'].sum()\n",
    "smoothed_daily_sum_t_power = df_mean_day['t_power'].rolling(20, min_periods=1).mean().sum()\n",
    "scaling_factor = daily_sum_t_power / smoothed_daily_sum_t_power\n",
    "\n",
    "# Apply the moving average to the t_power column and scale it to maintain the same daily sum\n",
    "df_mean_day['t_power_smoothed'] = df_mean_day['t_power'].rolling(20, min_periods=1).mean() * scaling_factor"
   ]
  },
  {
   "cell_type": "code",
   "execution_count": null,
   "id": "fc34af4b",
   "metadata": {},
   "outputs": [],
   "source": [
    "# We have an average heat consumption value that we can use to regulate the pump operation throughout the day.\n",
    "# To maintain the pump efficiently, we should consider adjusting its power within a certain range based on the \n",
    "# temperature of the supply water. If the temperature goes beyond specific limits, the pump's power should be \n",
    "# adapted accordingly to match the current consumption."
   ]
  },
  {
   "cell_type": "code",
   "execution_count": null,
   "id": "05beca3c",
   "metadata": {},
   "outputs": [],
   "source": [
    "# Copy dataframe and convert data\n",
    "df_new = df_mean_day.copy().reset_index(drop=True)\n",
    "df_new['timestamp'] = pd.to_datetime(df_new['timestamp'], format=\"%H:%M:%S\")\n",
    "df_new"
   ]
  },
  {
   "cell_type": "code",
   "execution_count": null,
   "id": "b33a0806",
   "metadata": {},
   "outputs": [],
   "source": [
    "# Custom function to assign desired temperatures for supply\n",
    "# Day - 55°C, evening - 50°C, night - 40°C\n",
    "def assign_desired_temperature(row):\n",
    "    if row['timestamp'].time() > pd.to_datetime('00:00:00').time()\\\n",
    "    and row['timestamp'].time() < pd.to_datetime('08:00:00').time():\n",
    "        return 40\n",
    "    elif row['timestamp'].time() >= pd.to_datetime('08:00:00').time()\\\n",
    "    and row['timestamp'].time() < pd.to_datetime('18:00:00').time():\n",
    "        return 55\n",
    "    else:\n",
    "        return 50\n",
    "\n",
    "# Apply the custom function to create the 'desired_temperature' column\n",
    "df_new['supply_new'] = df_new.apply(assign_desired_temperature, axis=1)\n",
    "\n",
    "# Calculate return\n",
    "df_new['return_new'] = df_new['supply_new'] - 5\n",
    "\n",
    "# Convert the 'timestamp' column to datetime format\n",
    "df_new['timestamp'] = df_new['timestamp'].dt.strftime('%H:%M:%S')"
   ]
  },
  {
   "cell_type": "code",
   "execution_count": null,
   "id": "67c3c441",
   "metadata": {},
   "outputs": [],
   "source": [
    "# Add discharge rate, l/s: m = q/dt/Cp\n",
    "df_new['discharge'] = round(df_new['t_power_smoothed']/5/Cp, 2)\n",
    "df_new.head()"
   ]
  },
  {
   "cell_type": "code",
   "execution_count": null,
   "id": "2077d7ab",
   "metadata": {},
   "outputs": [],
   "source": [
    "# Visalize expected discharge rate\n",
    "\n",
    "#Set plot size\n",
    "plt.figure(figsize=(10,5))\n",
    "\n",
    "# Plot each column on a separate line\n",
    "plt.plot(df_new['timestamp'], df_new['discharge'], label='discharge, l/s')\n",
    "\n",
    "plt.xlabel('Timestamp')\n",
    "plt.ylabel('Discharge')\n",
    "plt.title('Expected discharge rate, l/s')\n",
    "plt.legend()  \n",
    "plt.xticks(df_new['timestamp'][::4]) \n",
    "plt.xticks(rotation=45) \n",
    "plt.grid(True)\n",
    "plt.show()"
   ]
  },
  {
   "cell_type": "code",
   "execution_count": null,
   "id": "a618bfc3",
   "metadata": {},
   "outputs": [],
   "source": [
    "# To achieve the best consumption optimization, we can create a Machine Learning (ML) model\n",
    "# that takes into account factors such as date, weather, and other relevant variables.\n",
    "# As the model is built on a larger dataset with numerous observations, its predictive\n",
    "# capabilities are likely to improve significantly."
   ]
  },
  {
   "cell_type": "code",
   "execution_count": null,
   "id": "d40ba36c",
   "metadata": {},
   "outputs": [],
   "source": [
    "# Read CSV-file with weather\n",
    "path_w = 'F:/GitHub/energy_2/weather_2023-07.csv'\n",
    "data_w = pd.read_csv(path_w, parse_dates=['datetime'])"
   ]
  },
  {
   "cell_type": "code",
   "execution_count": null,
   "id": "dc456b36",
   "metadata": {
    "scrolled": true
   },
   "outputs": [],
   "source": [
    "# New discharge column for every observation\n",
    "df_new1 = df_sum.copy()\n",
    "df_new1['discharge'] = round(df_sum['t_power']/5/Cp, 2)"
   ]
  },
  {
   "cell_type": "code",
   "execution_count": null,
   "id": "ac5f1c8c",
   "metadata": {},
   "outputs": [],
   "source": [
    "# Filter columns to leave columns necessary for ML model\n",
    "col_filter_weather = ['datetime', 'temp', 'humidity', 'cloudcover']\n",
    "col_filter_dhw = ['timestamp', 'discharge']\n",
    "df_weather = data_w[col_filter_weather].reset_index(drop=True)\n",
    "df_dhw = df_new1[col_filter_dhw].rename(columns={\"timestamp\": \"datetime\"}).reset_index(drop=True)\n",
    "\n",
    "# Floor datetime by hours in order to fit datasets\n",
    "df_weather['datetime'] = df_weather['datetime'].dt.floor('H')\n",
    "df_dhw['datetime'] = df_dhw['datetime'].dt.floor('H')\n",
    "\n",
    "# Merge\n",
    "df_merged = pd.merge(df_dhw, df_weather, how='left', on='datetime')\n",
    "df_merged.sort_values('datetime', ascending=True)\n",
    "\n",
    "# Assign actuale timestamps\n",
    "df_merged['datetime'] = df_new1['timestamp']\n",
    "df_merged"
   ]
  },
  {
   "cell_type": "code",
   "execution_count": null,
   "id": "af15ad77",
   "metadata": {},
   "outputs": [],
   "source": [
    "# Prepare data for modeling\n",
    "\n",
    "# Separate months, days, hours, minutes and dayweeks\n",
    "df_merged['month'] = df_merged['datetime'].dt.month\n",
    "df_merged['day'] = df_merged['datetime'].dt.day\n",
    "df_merged['hour'] = df_merged['datetime'].dt.hour\n",
    "df_merged['minute'] = df_merged['datetime'].dt.minute\n",
    "df_merged['dayofweek'] = df_merged['datetime'].dt.dayofweek\n",
    "\n",
    "# Drop datetime\n",
    "df = df_merged.drop('datetime', axis=1)\n",
    "df"
   ]
  },
  {
   "cell_type": "code",
   "execution_count": null,
   "id": "1bae7a73",
   "metadata": {},
   "outputs": [],
   "source": [
    "# Import ML models and peformance metrics\n",
    "from sklearn.linear_model import LinearRegression\n",
    "from sklearn.tree import DecisionTreeRegressor\n",
    "from sklearn.ensemble import RandomForestRegressor\n",
    "from sklearn.model_selection import train_test_split\n",
    "from sklearn.metrics import mean_squared_error, mean_absolute_error, r2_score"
   ]
  },
  {
   "cell_type": "code",
   "execution_count": null,
   "id": "8196910e",
   "metadata": {},
   "outputs": [],
   "source": [
    "# Split dataset into training and testing sets\n",
    "X=df.drop(['discharge'], axis=1)\n",
    "y=df['discharge']\n",
    "X_train, X_test, y_train, y_test = train_test_split(X, y, test_size=0.25, random_state=42)"
   ]
  },
  {
   "cell_type": "code",
   "execution_count": null,
   "id": "77f3d428",
   "metadata": {},
   "outputs": [],
   "source": [
    "# Linear regression modeling\n",
    "linreg = LinearRegression()\n",
    "linreg.fit(X_train , y_train)\n",
    "y_pred = linreg.predict(X_test)"
   ]
  },
  {
   "cell_type": "code",
   "execution_count": null,
   "id": "c7eac047",
   "metadata": {},
   "outputs": [],
   "source": [
    "# Decision tree modeling\n",
    "dt = DecisionTreeRegressor()\n",
    "dt.fit(X_train , y_train)\n",
    "y_pred_dt = dt.predict(X_test)"
   ]
  },
  {
   "cell_type": "code",
   "execution_count": null,
   "id": "03367307",
   "metadata": {},
   "outputs": [],
   "source": [
    "# Random forest modeling\n",
    "rf = RandomForestRegressor()\n",
    "rf.fit(X_train , y_train)\n",
    "y_pred_rf = rf.predict(X_test)"
   ]
  },
  {
   "cell_type": "code",
   "execution_count": null,
   "id": "3b7e302b",
   "metadata": {},
   "outputs": [],
   "source": [
    "# Calculate LinearRegression evaluation metrics\n",
    "mse = mean_squared_error(y_test, y_pred)\n",
    "rmse = mean_squared_error(y_test, y_pred, squared=False)\n",
    "mae = mean_absolute_error(y_test, y_pred)\n",
    "r2 = r2_score(y_test, y_pred)\n",
    "\n",
    "# Print the evaluation metrics\n",
    "print('LinearRegression, Mean Squared Error (MSE):', mse)\n",
    "print('LinearRegression, Root Mean Squared Error (RMSE):', rmse)\n",
    "print('LinearRegression, Mean Absolute Error (MAE):', mae)\n",
    "print('LinearRegression, R-squared (R^2) Score:', r2)"
   ]
  },
  {
   "cell_type": "code",
   "execution_count": null,
   "id": "2f10257b",
   "metadata": {},
   "outputs": [],
   "source": [
    "# Calculate DecisionTree evaluation metrics\n",
    "mse_dt = mean_squared_error(y_test, y_pred_dt)\n",
    "rmse_dt = mean_squared_error(y_test, y_pred_dt, squared=False)\n",
    "mae_dt = mean_absolute_error(y_test, y_pred_dt)\n",
    "r2_dt = r2_score(y_test, y_pred_dt)\n",
    "\n",
    "# Print the evaluation metrics\n",
    "print('DecisionTree, Mean Squared Error (MSE):', mse_dt)\n",
    "print('DecisionTree, Root Mean Squared Error (RMSE):', rmse_dt)\n",
    "print('DecisionTree,  Mean Absolute Error (MAE):', mae_dt)\n",
    "print('DecisionTree, R-squared (R^2) Score:', r2_dt)"
   ]
  },
  {
   "cell_type": "code",
   "execution_count": null,
   "id": "dab07677",
   "metadata": {},
   "outputs": [],
   "source": [
    "# Calculate evaluation metrics RandomForestRegressor\n",
    "mse_rf = mean_squared_error(y_test, y_pred_rf)\n",
    "rmse_rf = mean_squared_error(y_test, y_pred_rf, squared=False)\n",
    "mae_rf = mean_absolute_error(y_test, y_pred_rf)\n",
    "r2_rf = r2_score(y_test, y_pred_rf)\n",
    "\n",
    "# Print the evaluation metrics\n",
    "print('RandomForestRegressor, Mean Squared Error (MSE):', mse_rf)\n",
    "print('RandomForestRegressor, Root Mean Squared Error (RMSE):', rmse_rf)\n",
    "print('RandomForestRegressor, Mean Absolute Error (MAE):', mae_rf)\n",
    "print('RandomForestRegressor, R-squared (R^2) Score:', r2_rf)"
   ]
  },
  {
   "cell_type": "code",
   "execution_count": null,
   "id": "44f58aea",
   "metadata": {},
   "outputs": [],
   "source": [
    "RMSE = {'LinearRegression': [rmse.round(1), mae.round(1), r2.round(2)],\n",
    "        'DecisionTreeRegressor': [rmse_dt.round(1), mae_dt.round(1), r2_rf.round(2)],\n",
    "        'RandomForestRegressor': [rmse_rf.round(1), mae_rf.round(1), r2_rf.round(2)]}\n",
    "best_RMSE = pd.DataFrame(RMSE, index=['RMSE', 'MAE', 'R^2'])\n",
    "print('Mean discharge value: ', df['discharge'].mean())\n",
    "best_RMSE"
   ]
  },
  {
   "cell_type": "code",
   "execution_count": null,
   "id": "c3e76572",
   "metadata": {},
   "outputs": [],
   "source": [
    "# The Random Forest model demonstrates good performance of 6.7 RMSE, outperforming the Decision Tree Regressor\n",
    "# models, but both with a notable R2 score of 0.83 in predicting the discharge rate. On the other hand, the\n",
    "# Linear Regression model exhibits unsatisfactory performance, with an R2 score of 0.09 and notably high\n",
    "# RMSE and MAE values, indicating its limited predictive capability and higher error rates in comparison."
   ]
  }
 ],
 "metadata": {
  "kernelspec": {
   "display_name": "Python 3 (ipykernel)",
   "language": "python",
   "name": "python3"
  },
  "language_info": {
   "codemirror_mode": {
    "name": "ipython",
    "version": 3
   },
   "file_extension": ".py",
   "mimetype": "text/x-python",
   "name": "python",
   "nbconvert_exporter": "python",
   "pygments_lexer": "ipython3",
   "version": "3.10.4"
  }
 },
 "nbformat": 4,
 "nbformat_minor": 5
}
